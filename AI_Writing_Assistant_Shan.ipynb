{
 "cells": [
  {
   "cell_type": "code",
   "execution_count": 11,
   "id": "86af8461-1f05-4cb1-9ac1-89da466b32ca",
   "metadata": {},
   "outputs": [],
   "source": [
    "# Gen AI Apps for Business - Shan Ali Shah Sayed"
   ]
  },
  {
   "cell_type": "code",
   "execution_count": 12,
   "id": "754c6cd2-3a07-4700-851e-d1efddbbd0d9",
   "metadata": {},
   "outputs": [],
   "source": [
    "# Environmental Conservation: Grant Writing Assistant"
   ]
  },
  {
   "cell_type": "code",
   "execution_count": 2,
   "id": "c4e4ed98-fd91-4b6a-9e07-9139b05fb07a",
   "metadata": {},
   "outputs": [
    {
     "name": "stdout",
     "output_type": "stream",
     "text": [
      "Requirement already satisfied: langchain in /opt/anaconda3/envs/testenv1/lib/python3.12/site-packages (0.3.9)\n",
      "Requirement already satisfied: openai in /opt/anaconda3/envs/testenv1/lib/python3.12/site-packages (1.55.3)\n",
      "Requirement already satisfied: python-dotenv in /opt/anaconda3/envs/testenv1/lib/python3.12/site-packages (1.0.1)\n",
      "Requirement already satisfied: PyYAML>=5.3 in /opt/anaconda3/envs/testenv1/lib/python3.12/site-packages (from langchain) (6.0.1)\n",
      "Requirement already satisfied: SQLAlchemy<3,>=1.4 in /opt/anaconda3/envs/testenv1/lib/python3.12/site-packages (from langchain) (2.0.35)\n",
      "Requirement already satisfied: aiohttp<4.0.0,>=3.8.3 in /opt/anaconda3/envs/testenv1/lib/python3.12/site-packages (from langchain) (3.11.8)\n",
      "Requirement already satisfied: langchain-core<0.4.0,>=0.3.21 in /opt/anaconda3/envs/testenv1/lib/python3.12/site-packages (from langchain) (0.3.21)\n",
      "Requirement already satisfied: langchain-text-splitters<0.4.0,>=0.3.0 in /opt/anaconda3/envs/testenv1/lib/python3.12/site-packages (from langchain) (0.3.2)\n",
      "Requirement already satisfied: langsmith<0.2.0,>=0.1.17 in /opt/anaconda3/envs/testenv1/lib/python3.12/site-packages (from langchain) (0.1.147)\n",
      "Requirement already satisfied: numpy<3,>=1.26.2 in /opt/anaconda3/envs/testenv1/lib/python3.12/site-packages (from langchain) (1.26.4)\n",
      "Requirement already satisfied: pydantic<3.0.0,>=2.7.4 in /opt/anaconda3/envs/testenv1/lib/python3.12/site-packages (from langchain) (2.9.2)\n",
      "Requirement already satisfied: requests<3,>=2 in /opt/anaconda3/envs/testenv1/lib/python3.12/site-packages (from langchain) (2.32.3)\n",
      "Requirement already satisfied: tenacity!=8.4.0,<10,>=8.1.0 in /opt/anaconda3/envs/testenv1/lib/python3.12/site-packages (from langchain) (9.0.0)\n",
      "Requirement already satisfied: anyio<5,>=3.5.0 in /opt/anaconda3/envs/testenv1/lib/python3.12/site-packages (from openai) (4.2.0)\n",
      "Requirement already satisfied: distro<2,>=1.7.0 in /opt/anaconda3/envs/testenv1/lib/python3.12/site-packages (from openai) (1.9.0)\n",
      "Requirement already satisfied: httpx<1,>=0.23.0 in /opt/anaconda3/envs/testenv1/lib/python3.12/site-packages (from openai) (0.27.2)\n",
      "Requirement already satisfied: jiter<1,>=0.4.0 in /opt/anaconda3/envs/testenv1/lib/python3.12/site-packages (from openai) (0.7.1)\n",
      "Requirement already satisfied: sniffio in /opt/anaconda3/envs/testenv1/lib/python3.12/site-packages (from openai) (1.3.0)\n",
      "Requirement already satisfied: tqdm>4 in /opt/anaconda3/envs/testenv1/lib/python3.12/site-packages (from openai) (4.67.0)\n",
      "Requirement already satisfied: typing-extensions<5,>=4.11 in /opt/anaconda3/envs/testenv1/lib/python3.12/site-packages (from openai) (4.11.0)\n",
      "Requirement already satisfied: aiohappyeyeballs>=2.3.0 in /opt/anaconda3/envs/testenv1/lib/python3.12/site-packages (from aiohttp<4.0.0,>=3.8.3->langchain) (2.4.4)\n",
      "Requirement already satisfied: aiosignal>=1.1.2 in /opt/anaconda3/envs/testenv1/lib/python3.12/site-packages (from aiohttp<4.0.0,>=3.8.3->langchain) (1.3.1)\n",
      "Requirement already satisfied: attrs>=17.3.0 in /opt/anaconda3/envs/testenv1/lib/python3.12/site-packages (from aiohttp<4.0.0,>=3.8.3->langchain) (23.1.0)\n",
      "Requirement already satisfied: frozenlist>=1.1.1 in /opt/anaconda3/envs/testenv1/lib/python3.12/site-packages (from aiohttp<4.0.0,>=3.8.3->langchain) (1.5.0)\n",
      "Requirement already satisfied: multidict<7.0,>=4.5 in /opt/anaconda3/envs/testenv1/lib/python3.12/site-packages (from aiohttp<4.0.0,>=3.8.3->langchain) (6.1.0)\n",
      "Requirement already satisfied: propcache>=0.2.0 in /opt/anaconda3/envs/testenv1/lib/python3.12/site-packages (from aiohttp<4.0.0,>=3.8.3->langchain) (0.2.1)\n",
      "Requirement already satisfied: yarl<2.0,>=1.17.0 in /opt/anaconda3/envs/testenv1/lib/python3.12/site-packages (from aiohttp<4.0.0,>=3.8.3->langchain) (1.18.0)\n",
      "Requirement already satisfied: idna>=2.8 in /opt/anaconda3/envs/testenv1/lib/python3.12/site-packages (from anyio<5,>=3.5.0->openai) (3.7)\n",
      "Requirement already satisfied: certifi in /opt/anaconda3/envs/testenv1/lib/python3.12/site-packages (from httpx<1,>=0.23.0->openai) (2024.7.4)\n",
      "Requirement already satisfied: httpcore==1.* in /opt/anaconda3/envs/testenv1/lib/python3.12/site-packages (from httpx<1,>=0.23.0->openai) (1.0.7)\n",
      "Requirement already satisfied: h11<0.15,>=0.13 in /opt/anaconda3/envs/testenv1/lib/python3.12/site-packages (from httpcore==1.*->httpx<1,>=0.23.0->openai) (0.14.0)\n",
      "Requirement already satisfied: jsonpatch<2.0,>=1.33 in /opt/anaconda3/envs/testenv1/lib/python3.12/site-packages (from langchain-core<0.4.0,>=0.3.21->langchain) (1.33)\n",
      "Requirement already satisfied: packaging<25,>=23.2 in /opt/anaconda3/envs/testenv1/lib/python3.12/site-packages (from langchain-core<0.4.0,>=0.3.21->langchain) (23.2)\n",
      "Requirement already satisfied: orjson<4.0.0,>=3.9.14 in /opt/anaconda3/envs/testenv1/lib/python3.12/site-packages (from langsmith<0.2.0,>=0.1.17->langchain) (3.10.12)\n",
      "Requirement already satisfied: requests-toolbelt<2.0.0,>=1.0.0 in /opt/anaconda3/envs/testenv1/lib/python3.12/site-packages (from langsmith<0.2.0,>=0.1.17->langchain) (1.0.0)\n",
      "Requirement already satisfied: annotated-types>=0.6.0 in /opt/anaconda3/envs/testenv1/lib/python3.12/site-packages (from pydantic<3.0.0,>=2.7.4->langchain) (0.7.0)\n",
      "Requirement already satisfied: pydantic-core==2.23.4 in /opt/anaconda3/envs/testenv1/lib/python3.12/site-packages (from pydantic<3.0.0,>=2.7.4->langchain) (2.23.4)\n",
      "Requirement already satisfied: charset-normalizer<4,>=2 in /opt/anaconda3/envs/testenv1/lib/python3.12/site-packages (from requests<3,>=2->langchain) (3.3.2)\n",
      "Requirement already satisfied: urllib3<3,>=1.21.1 in /opt/anaconda3/envs/testenv1/lib/python3.12/site-packages (from requests<3,>=2->langchain) (2.2.2)\n",
      "Requirement already satisfied: jsonpointer>=1.9 in /opt/anaconda3/envs/testenv1/lib/python3.12/site-packages (from jsonpatch<2.0,>=1.33->langchain-core<0.4.0,>=0.3.21->langchain) (3.0.0)\n"
     ]
    }
   ],
   "source": [
    "!pip install langchain openai python-dotenv\n",
    "from langchain.chat_models import ChatOpenAI\n",
    "from langchain.chains import ConversationChain\n",
    "from langchain.prompts import PromptTemplate\n",
    "from dotenv import load_dotenv\n",
    "import os\n"
   ]
  },
  {
   "cell_type": "code",
   "execution_count": 13,
   "id": "29f970ce-ac24-4889-ac74-5198dc8f5b0a",
   "metadata": {},
   "outputs": [],
   "source": [
    "# Loading API key which is saved in a file named .env saved in the same folder as this jupyter file. \n",
    "load_dotenv()\n",
    "os.environ[\"OPENAI_API_KEY\"] = os.getenv(\"OPENAI_API_KEY\")\n"
   ]
  },
  {
   "cell_type": "code",
   "execution_count": 14,
   "id": "7e477656-859d-49f5-ad45-09a02d24cb53",
   "metadata": {},
   "outputs": [],
   "source": [
    "llm = ChatOpenAI(model=\"gpt-4\", temperature=0.7)\n"
   ]
  },
  {
   "cell_type": "code",
   "execution_count": 15,
   "id": "a44ca3ca-8bba-4c07-9545-9c69a9f8ab42",
   "metadata": {},
   "outputs": [],
   "source": [
    "# Defining Prompt Template for Grant Proposal Writing as per the assignment topic chosen: Environmental Conservation\n",
    "\n",
    "grant_proposal_prompt = PromptTemplate(\n",
    "    input_variables=[\n",
    "        \"project_title\", \"project_description\", \"project_objectives\",\n",
    "        \"funder_mission\", \"funder_focus_areas\", \"funder_requirements\"\n",
    "    ],\n",
    "    template=(\n",
    "        \"Write a compelling grant proposal introduction for a project titled '{project_title}'. \"\n",
    "        \"The project aims to {project_description}. Key objectives of the project include: {project_objectives}. \"\n",
    "        \"The funder has the following mission: {funder_mission}, with focus areas in {funder_focus_areas}. \"\n",
    "        \"Proposals must align with these requirements: {funder_requirements}. \"\n",
    "        \"Ensure the introduction highlights how the project aligns with the funder's priorities and demonstrates measurable impacts.\"\n",
    "    ),\n",
    ")\n"
   ]
  },
  {
   "cell_type": "code",
   "execution_count": 16,
   "id": "6bfa4813-188f-464a-b88c-f83877d6aed3",
   "metadata": {},
   "outputs": [],
   "source": [
    "def collect_inputs():\n",
    "    print(\"Welcome to the Grant Proposal Writing Assistant!\")\n",
    "    print(\"Please provide details about your project and the funder to create a tailored grant proposal introduction.\\n\")\n",
    "\n",
    "    project_title = input(\"Enter the project title: \")\n",
    "    project_description = input(\"Provide a brief description of the project: \")\n",
    "    project_objectives = input(\"List the key objectives of the project (separate by commas): \")\n",
    "    funder_mission = input(\"What is the mission of the funder? \")\n",
    "    funder_focus_areas = input(\"What are the focus areas of the funder? \")\n",
    "    funder_requirements = input(\"What are the requirements of the funder? \")\n",
    "\n",
    "    return {\n",
    "        \"project_title\": project_title,\n",
    "        \"project_description\": project_description,\n",
    "        \"project_objectives\": project_objectives,\n",
    "        \"funder_mission\": funder_mission,\n",
    "        \"funder_focus_areas\": funder_focus_areas,\n",
    "        \"funder_requirements\": funder_requirements,\n",
    "    }\n",
    "    "
   ]
  },
  {
   "cell_type": "code",
   "execution_count": 17,
   "id": "d08e1a96-03a5-4339-93e7-ff1278e7fa4f",
   "metadata": {},
   "outputs": [
    {
     "name": "stdout",
     "output_type": "stream",
     "text": [
      "Welcome to the Grant Proposal Writing Assistant!\n",
      "Please provide details about your project and the funder to create a tailored grant proposal introduction.\n",
      "\n"
     ]
    },
    {
     "name": "stdin",
     "output_type": "stream",
     "text": [
      "Enter the project title:  Urban Water Conservation\n",
      "Provide a brief description of the project:  Reducing water wastage through advanced irrigation systems and education.\n",
      "List the key objectives of the project (separate by commas):  Install water-saving technologies, Educate communities, Reform policies\n",
      "What is the mission of the funder?  To support sustainable practices in urban communities.\n",
      "What are the focus areas of the funder?  Water conservation, urban sustainability, community engagement.\n",
      "What are the requirements of the funder?  Must demonstrate measurable impact and community participation.\n"
     ]
    },
    {
     "name": "stdout",
     "output_type": "stream",
     "text": [
      "\n",
      "--- Grant Proposal Introduction ---\n",
      "\n",
      "Dear Grant Committee,\n",
      "\n",
      "I am writing on behalf of our team to request your support for our innovative project entitled 'Urban Water Conservation.' This initiative stands at the intersection of advanced technology, education, and policy reform, a nexus that we believe is key to achieving sustainable water practices in urban communities. \n",
      "\n",
      "With our planet facing unprecedented environmental challenges, it is more imperative than ever to adopt sustainable practices, particularly in densely populated urban areas where resources are heavily consumed. Our project, in alignment with your mission, aims to make a substantial impact in water conservation, urban sustainability, and community engagement.\n",
      "\n",
      "This initiative will focus on reducing water wastage by implementing cutting-edge irrigation systems. These technologies offer significant potential for water-saving, with measurable impacts that align with your requirements. Furthermore, we plan to educate communities about water conservation, thus fostering a culture of sustainability and responsible resource usage. We believe that community participation is crucial in this endeavor, and we have designed our project to encourage and facilitate such involvement.\n",
      "\n",
      "In addition to the practical application of technology and education, our project also seeks to drive policy reform. By working with local authorities and stakeholders, we aim to introduce policies that further encourage and incentivize water conservation. This aspect of our project ensures the longevity and sustainability of the changes we hope to bring about.\n",
      "\n",
      "In conclusion, our 'Urban Water Conservation' project presents a comprehensive approach to water conservation that goes beyond short-term solutions. We believe that with your support, we can significantly contribute to sustainable urban living, aligning perfectly with your focus areas and leaving a lasting impact on our communities.\n",
      "\n",
      "Thank you for considering our proposal. We look forward to the possibility of working together to make a measurable difference in urban water conservation.\n"
     ]
    }
   ],
   "source": [
    "user_inputs = collect_inputs()\n",
    "formatted_prompt = grant_proposal_prompt.format(**user_inputs)\n",
    "conversation = ConversationChain(llm=llm)\n",
    "response = conversation.run(formatted_prompt)\n",
    "print(\"\\n--- Grant Proposal Introduction ---\\n\")\n",
    "print(response)\n"
   ]
  },
  {
   "cell_type": "code",
   "execution_count": null,
   "id": "2e4d5308-a30e-430e-bf16-5bbe9687521b",
   "metadata": {},
   "outputs": [],
   "source": [
    "# --"
   ]
  }
 ],
 "metadata": {
  "kernelspec": {
   "display_name": "Python 3 (ipykernel)",
   "language": "python",
   "name": "python3"
  },
  "language_info": {
   "codemirror_mode": {
    "name": "ipython",
    "version": 3
   },
   "file_extension": ".py",
   "mimetype": "text/x-python",
   "name": "python",
   "nbconvert_exporter": "python",
   "pygments_lexer": "ipython3",
   "version": "3.12.4"
  }
 },
 "nbformat": 4,
 "nbformat_minor": 5
}
